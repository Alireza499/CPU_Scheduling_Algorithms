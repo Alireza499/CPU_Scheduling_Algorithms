{
  "nbformat": 4,
  "nbformat_minor": 0,
  "metadata": {
    "colab": {
      "provenance": [],
      "include_colab_link": true
    },
    "kernelspec": {
      "name": "python3",
      "display_name": "Python 3"
    },
    "language_info": {
      "name": "python"
    }
  },
  "cells": [
    {
      "cell_type": "markdown",
      "metadata": {
        "id": "view-in-github",
        "colab_type": "text"
      },
      "source": [
        "<a href=\"https://colab.research.google.com/github/Alireza499/CPU_Scheduling_Algorithms/blob/main/CPU_Scheduling.ipynb\" target=\"_parent\"><img src=\"https://colab.research.google.com/assets/colab-badge.svg\" alt=\"Open In Colab\"/></a>"
      ]
    },
    {
      "cell_type": "code",
      "execution_count": null,
      "metadata": {
        "id": "q7qUiXicwdbR"
      },
      "outputs": [],
      "source": [
        "#SJF Non-preemptive\n",
        "import random\n",
        "import numpy as np\n",
        "import copy"
      ]
    },
    {
      "cell_type": "code",
      "source": [
        "n = 8\n",
        "arr = [[(i) for i in range(1, n+1)], [random.randint(0, 6) for _ in range(1, n+1)], [random.randint(5, 15) for _ in range(1, n+1)]]\n",
        "arr"
      ],
      "metadata": {
        "colab": {
          "base_uri": "https://localhost:8080/"
        },
        "id": "9AZRCl9wwirz",
        "outputId": "140c21b3-ee13-47f1-e4eb-11c6f0be8dfb"
      },
      "execution_count": null,
      "outputs": [
        {
          "output_type": "execute_result",
          "data": {
            "text/plain": [
              "[[1, 2, 3, 4, 5, 6, 7, 8],\n",
              " [1, 3, 4, 0, 1, 1, 6, 5],\n",
              " [9, 6, 12, 7, 7, 7, 9, 11]]"
            ]
          },
          "metadata": {},
          "execution_count": 59
        }
      ]
    },
    {
      "cell_type": "code",
      "source": [
        "def arrangeArrival(n, array):\n",
        "    for i in range(0, n):\n",
        "        for j in range(i+1, n):\n",
        "            if array[1][i] > array[1][j]:\n",
        "                for k in range(0, 3):\n",
        "                    array[k][i], array[k][j] = array[k][j], array[k][i]\n"
      ],
      "metadata": {
        "id": "7j7pXLuGzLzs"
      },
      "execution_count": null,
      "outputs": []
    },
    {
      "cell_type": "code",
      "source": [
        "#arrangeArrival(n, arr)\n",
        "arr = [[3, 4, 5, 6, 7, 8, 1, 2],\n",
        " [0, 0, 0, 0, 3, 3, 4, 4],\n",
        " [12, 14, 10, 11, 9, 8, 10, 5]]\n",
        "arr\n",
        "\n"
      ],
      "metadata": {
        "colab": {
          "base_uri": "https://localhost:8080/"
        },
        "id": "j9roPDkPzlmU",
        "outputId": "cf5ffeb6-3251-4a49-c402-9f8025d1ca52"
      },
      "execution_count": null,
      "outputs": [
        {
          "output_type": "execute_result",
          "data": {
            "text/plain": [
              "[[3, 4, 5, 6, 7, 8, 1, 2],\n",
              " [0, 0, 0, 0, 3, 3, 4, 4],\n",
              " [12, 14, 10, 11, 9, 8, 10, 5]]"
            ]
          },
          "metadata": {},
          "execution_count": 92
        }
      ]
    },
    {
      "cell_type": "code",
      "source": [
        "def SJF(n, array):\n",
        "    waitTime = [0 for _ in range(n)]\n",
        "    turnTime = [0 for _ in range(n)]\n",
        "    #allTime = sum(array[2])\n",
        "    #for t in range(allTime):\n",
        "    rt = array[2].copy()\n",
        "    currentTime = min(array[1])\n",
        "    for i in range(n):\n",
        "        arriveTime = array[1][i]\n",
        "        if arriveTime>currentTime:\n",
        "          currentTime = arriveTime\n",
        "\n",
        "        mini = i\n",
        "        minv = rt[i]\n",
        "        for j in range(n):\n",
        "          if array[1][j] <= currentTime:\n",
        "              if minv > rt[j]:\n",
        "                  mini = j\n",
        "                  minv = rt[j]\n",
        "        print(i,currentTime, mini, minv)\n",
        "        rt[mini] = 10000\n",
        "        print(rt)\n",
        "        waitTime[mini] = currentTime - arriveTime\n",
        "        currentTime = currentTime + minv\n",
        "        turnTime[mini] = currentTime\n",
        "    return {('PID_' + str(array[0][i])): waitTime[i] for i in range(n)}, {('PID_' + str(array[0][i])): turnTime[i] for i in range(n)}"
      ],
      "metadata": {
        "id": "cJjgDcHl1OAi"
      },
      "execution_count": null,
      "outputs": []
    },
    {
      "cell_type": "code",
      "source": [
        "\n",
        "#testArrSJF=[[1,2,3,4,5],[1,3,6,7,9],[7,3,2,10,8]]\n",
        "x,y = SJF(n, arr)\n",
        "#x,y = SJF(5,testArrSJF)\n",
        "print(x,\"\\n\" ,y)\n"
      ],
      "metadata": {
        "colab": {
          "base_uri": "https://localhost:8080/"
        },
        "id": "OnmTmmFFDrU0",
        "outputId": "41ea50ad-fff4-4540-ad60-9a94f35a78cd"
      },
      "execution_count": null,
      "outputs": [
        {
          "output_type": "stream",
          "name": "stdout",
          "text": [
            "0 0 2 10\n",
            "[12, 14, 10000, 11, 9, 8, 10, 5]\n",
            "1 10 7 5\n",
            "[12, 14, 10000, 11, 9, 8, 10, 10000]\n",
            "2 15 5 8\n",
            "[12, 14, 10000, 11, 9, 10000, 10, 10000]\n",
            "3 23 4 9\n",
            "[12, 14, 10000, 11, 10000, 10000, 10, 10000]\n",
            "4 32 6 10\n",
            "[12, 14, 10000, 11, 10000, 10000, 10000, 10000]\n",
            "5 42 3 11\n",
            "[12, 14, 10000, 10000, 10000, 10000, 10000, 10000]\n",
            "6 53 0 12\n",
            "[10000, 14, 10000, 10000, 10000, 10000, 10000, 10000]\n",
            "7 65 1 14\n",
            "[10000, 10000, 10000, 10000, 10000, 10000, 10000, 10000]\n",
            "{'PID_3': 49, 'PID_4': 61, 'PID_5': 0, 'PID_6': 39, 'PID_7': 23, 'PID_8': 15, 'PID_1': 29, 'PID_2': 10} \n",
            " {'PID_3': 65, 'PID_4': 79, 'PID_5': 10, 'PID_6': 53, 'PID_7': 32, 'PID_8': 23, 'PID_1': 42, 'PID_2': 15}\n"
          ]
        }
      ]
    },
    {
      "cell_type": "code",
      "source": [
        "print(\"Avg wait time: \", sum(x.values())/n)\n",
        "print(\"Avg finith time: \", sum(y.values())/n)"
      ],
      "metadata": {
        "colab": {
          "base_uri": "https://localhost:8080/"
        },
        "id": "r7BvNC3UDxY1",
        "outputId": "e6677a93-2a92-4d02-a44d-f42967e18933"
      },
      "execution_count": null,
      "outputs": [
        {
          "output_type": "stream",
          "name": "stdout",
          "text": [
            "Avg wait time:  28.25\n",
            "Avg finith time:  39.875\n"
          ]
        }
      ]
    },
    {
      "cell_type": "markdown",
      "source": [
        "#FIFO"
      ],
      "metadata": {
        "id": "3SUR09XzNXum"
      }
    },
    {
      "cell_type": "code",
      "source": [
        "def FIFO(n, array):\n",
        "    waitTime = [0 for _ in range(n)]\n",
        "    turnTime = [0 for _ in range(n)]\n",
        "    #allTime = sum(array[2])\n",
        "    #for t in range(allTime):\n",
        "    currentTime = min(array[1])\n",
        "    for i in range(n):\n",
        "        arriveTime = array[1][i]\n",
        "        if arriveTime>currentTime:\n",
        "          currentTime = arriveTime\n",
        "        mini = i\n",
        "        minv = array[2][i]\n",
        "\n",
        "\n",
        "        waitTime[mini] = currentTime - arriveTime\n",
        "        currentTime = currentTime + minv\n",
        "        turnTime[mini] = currentTime\n",
        "    return {('PID_' + str(array[0][i])): waitTime[i] for i in range(n)}, {('PID_' + str(array[0][i])): turnTime[i] for i in range(n)}"
      ],
      "metadata": {
        "id": "aa6NO1WWM5AL"
      },
      "execution_count": null,
      "outputs": []
    },
    {
      "cell_type": "code",
      "source": [
        "x,y = FIFO(n, arr)\n",
        "print(x,'\\n', y)\n"
      ],
      "metadata": {
        "colab": {
          "base_uri": "https://localhost:8080/"
        },
        "id": "aEfGWDuhQO_0",
        "outputId": "c056f2b9-9e86-4f20-b924-2897d04730d9"
      },
      "execution_count": null,
      "outputs": [
        {
          "output_type": "stream",
          "name": "stdout",
          "text": [
            "{'PID_3': 0, 'PID_4': 12, 'PID_5': 26, 'PID_6': 36, 'PID_7': 44, 'PID_8': 53, 'PID_1': 60, 'PID_2': 70} \n",
            " {'PID_3': 12, 'PID_4': 26, 'PID_5': 36, 'PID_6': 47, 'PID_7': 56, 'PID_8': 64, 'PID_1': 74, 'PID_2': 79}\n"
          ]
        }
      ]
    },
    {
      "cell_type": "code",
      "source": [
        "print(\"Avg wait time: \", sum(x.values())/n)\n",
        "print(\"Avg finish time: \", sum(y.values())/n)"
      ],
      "metadata": {
        "colab": {
          "base_uri": "https://localhost:8080/"
        },
        "id": "tPeGFKUmYn7_",
        "outputId": "006c4377-d8cf-4e47-9d3e-69a805ef7408"
      },
      "execution_count": null,
      "outputs": [
        {
          "output_type": "stream",
          "name": "stdout",
          "text": [
            "Avg wait time:  37.625\n",
            "Avg finish time:  49.25\n"
          ]
        }
      ]
    },
    {
      "cell_type": "markdown",
      "source": [
        "#RSJF   \n",
        "# Preemtive SJF"
      ],
      "metadata": {
        "id": "Q-K2vpkadCq2"
      }
    },
    {
      "cell_type": "code",
      "source": [
        "def RSJF(n, array):\n",
        "    finishTime = [0 for _ in range(n)]\n",
        "    rt = array[2].copy()\n",
        "    running = [0 for _ in range(sum(rt))]\n",
        "    #allTime = sum(array[2])\n",
        "    #for t in range(allTime):\n",
        "    currentTime = min(array[1])\n",
        "\n",
        "    while sum(rt)!=0:\n",
        "        print('currentTime', currentTime,':', 'residual time', rt)\n",
        "\n",
        "        lst = []\n",
        "        for i in range(n):\n",
        "            if array[1][i] <= currentTime and rt[i]>0:\n",
        "                lst.append(i)\n",
        "\n",
        "        print('available task: ',lst)\n",
        "        if lst:\n",
        "          mini = lst[0]\n",
        "          minv = rt[mini]\n",
        "          for i in lst:\n",
        "              if minv > rt[i] and rt[i]>0:\n",
        "                  mini = i\n",
        "                  minv = rt[i]\n",
        "          currentTask = mini\n",
        "\n",
        "        print('currentTask', currentTask)\n",
        "        running[currentTime] = currentTask\n",
        "        rt[currentTask] = rt[currentTask] - 1\n",
        "        if rt[currentTask] == 0:\n",
        "            finishTime[currentTask] = currentTime\n",
        "\n",
        "        currentTime = currentTime + 1\n",
        "\n",
        "    return {('PID_' + str(array[0][i])): finishTime[i] for i in range(n)}"
      ],
      "metadata": {
        "id": "fVDH2DahaA_0"
      },
      "execution_count": null,
      "outputs": []
    },
    {
      "cell_type": "code",
      "source": [
        "x = (RSJF(n, arr))"
      ],
      "metadata": {
        "colab": {
          "base_uri": "https://localhost:8080/"
        },
        "id": "bPDZmlIjMekV",
        "outputId": "7c641e34-162c-46cf-f038-a5908beae5c8"
      },
      "execution_count": null,
      "outputs": [
        {
          "output_type": "stream",
          "name": "stdout",
          "text": [
            "currentTime 0 : residual time [12, 14, 10, 11, 9, 8, 10, 5]\n",
            "available task:  [0, 1, 2, 3]\n",
            "currentTask 2\n",
            "currentTime 1 : residual time [12, 14, 9, 11, 9, 8, 10, 5]\n",
            "available task:  [0, 1, 2, 3]\n",
            "currentTask 2\n",
            "currentTime 2 : residual time [12, 14, 8, 11, 9, 8, 10, 5]\n",
            "available task:  [0, 1, 2, 3]\n",
            "currentTask 2\n",
            "currentTime 3 : residual time [12, 14, 7, 11, 9, 8, 10, 5]\n",
            "available task:  [0, 1, 2, 3, 4, 5]\n",
            "currentTask 2\n",
            "currentTime 4 : residual time [12, 14, 6, 11, 9, 8, 10, 5]\n",
            "available task:  [0, 1, 2, 3, 4, 5, 6, 7]\n",
            "currentTask 7\n",
            "currentTime 5 : residual time [12, 14, 6, 11, 9, 8, 10, 4]\n",
            "available task:  [0, 1, 2, 3, 4, 5, 6, 7]\n",
            "currentTask 7\n",
            "currentTime 6 : residual time [12, 14, 6, 11, 9, 8, 10, 3]\n",
            "available task:  [0, 1, 2, 3, 4, 5, 6, 7]\n",
            "currentTask 7\n",
            "currentTime 7 : residual time [12, 14, 6, 11, 9, 8, 10, 2]\n",
            "available task:  [0, 1, 2, 3, 4, 5, 6, 7]\n",
            "currentTask 7\n",
            "currentTime 8 : residual time [12, 14, 6, 11, 9, 8, 10, 1]\n",
            "available task:  [0, 1, 2, 3, 4, 5, 6, 7]\n",
            "currentTask 7\n",
            "currentTime 9 : residual time [12, 14, 6, 11, 9, 8, 10, 0]\n",
            "available task:  [0, 1, 2, 3, 4, 5, 6]\n",
            "currentTask 2\n",
            "currentTime 10 : residual time [12, 14, 5, 11, 9, 8, 10, 0]\n",
            "available task:  [0, 1, 2, 3, 4, 5, 6]\n",
            "currentTask 2\n",
            "currentTime 11 : residual time [12, 14, 4, 11, 9, 8, 10, 0]\n",
            "available task:  [0, 1, 2, 3, 4, 5, 6]\n",
            "currentTask 2\n",
            "currentTime 12 : residual time [12, 14, 3, 11, 9, 8, 10, 0]\n",
            "available task:  [0, 1, 2, 3, 4, 5, 6]\n",
            "currentTask 2\n",
            "currentTime 13 : residual time [12, 14, 2, 11, 9, 8, 10, 0]\n",
            "available task:  [0, 1, 2, 3, 4, 5, 6]\n",
            "currentTask 2\n",
            "currentTime 14 : residual time [12, 14, 1, 11, 9, 8, 10, 0]\n",
            "available task:  [0, 1, 2, 3, 4, 5, 6]\n",
            "currentTask 2\n",
            "currentTime 15 : residual time [12, 14, 0, 11, 9, 8, 10, 0]\n",
            "available task:  [0, 1, 3, 4, 5, 6]\n",
            "currentTask 5\n",
            "currentTime 16 : residual time [12, 14, 0, 11, 9, 7, 10, 0]\n",
            "available task:  [0, 1, 3, 4, 5, 6]\n",
            "currentTask 5\n",
            "currentTime 17 : residual time [12, 14, 0, 11, 9, 6, 10, 0]\n",
            "available task:  [0, 1, 3, 4, 5, 6]\n",
            "currentTask 5\n",
            "currentTime 18 : residual time [12, 14, 0, 11, 9, 5, 10, 0]\n",
            "available task:  [0, 1, 3, 4, 5, 6]\n",
            "currentTask 5\n",
            "currentTime 19 : residual time [12, 14, 0, 11, 9, 4, 10, 0]\n",
            "available task:  [0, 1, 3, 4, 5, 6]\n",
            "currentTask 5\n",
            "currentTime 20 : residual time [12, 14, 0, 11, 9, 3, 10, 0]\n",
            "available task:  [0, 1, 3, 4, 5, 6]\n",
            "currentTask 5\n",
            "currentTime 21 : residual time [12, 14, 0, 11, 9, 2, 10, 0]\n",
            "available task:  [0, 1, 3, 4, 5, 6]\n",
            "currentTask 5\n",
            "currentTime 22 : residual time [12, 14, 0, 11, 9, 1, 10, 0]\n",
            "available task:  [0, 1, 3, 4, 5, 6]\n",
            "currentTask 5\n",
            "currentTime 23 : residual time [12, 14, 0, 11, 9, 0, 10, 0]\n",
            "available task:  [0, 1, 3, 4, 6]\n",
            "currentTask 4\n",
            "currentTime 24 : residual time [12, 14, 0, 11, 8, 0, 10, 0]\n",
            "available task:  [0, 1, 3, 4, 6]\n",
            "currentTask 4\n",
            "currentTime 25 : residual time [12, 14, 0, 11, 7, 0, 10, 0]\n",
            "available task:  [0, 1, 3, 4, 6]\n",
            "currentTask 4\n",
            "currentTime 26 : residual time [12, 14, 0, 11, 6, 0, 10, 0]\n",
            "available task:  [0, 1, 3, 4, 6]\n",
            "currentTask 4\n",
            "currentTime 27 : residual time [12, 14, 0, 11, 5, 0, 10, 0]\n",
            "available task:  [0, 1, 3, 4, 6]\n",
            "currentTask 4\n",
            "currentTime 28 : residual time [12, 14, 0, 11, 4, 0, 10, 0]\n",
            "available task:  [0, 1, 3, 4, 6]\n",
            "currentTask 4\n",
            "currentTime 29 : residual time [12, 14, 0, 11, 3, 0, 10, 0]\n",
            "available task:  [0, 1, 3, 4, 6]\n",
            "currentTask 4\n",
            "currentTime 30 : residual time [12, 14, 0, 11, 2, 0, 10, 0]\n",
            "available task:  [0, 1, 3, 4, 6]\n",
            "currentTask 4\n",
            "currentTime 31 : residual time [12, 14, 0, 11, 1, 0, 10, 0]\n",
            "available task:  [0, 1, 3, 4, 6]\n",
            "currentTask 4\n",
            "currentTime 32 : residual time [12, 14, 0, 11, 0, 0, 10, 0]\n",
            "available task:  [0, 1, 3, 6]\n",
            "currentTask 6\n",
            "currentTime 33 : residual time [12, 14, 0, 11, 0, 0, 9, 0]\n",
            "available task:  [0, 1, 3, 6]\n",
            "currentTask 6\n",
            "currentTime 34 : residual time [12, 14, 0, 11, 0, 0, 8, 0]\n",
            "available task:  [0, 1, 3, 6]\n",
            "currentTask 6\n",
            "currentTime 35 : residual time [12, 14, 0, 11, 0, 0, 7, 0]\n",
            "available task:  [0, 1, 3, 6]\n",
            "currentTask 6\n",
            "currentTime 36 : residual time [12, 14, 0, 11, 0, 0, 6, 0]\n",
            "available task:  [0, 1, 3, 6]\n",
            "currentTask 6\n",
            "currentTime 37 : residual time [12, 14, 0, 11, 0, 0, 5, 0]\n",
            "available task:  [0, 1, 3, 6]\n",
            "currentTask 6\n",
            "currentTime 38 : residual time [12, 14, 0, 11, 0, 0, 4, 0]\n",
            "available task:  [0, 1, 3, 6]\n",
            "currentTask 6\n",
            "currentTime 39 : residual time [12, 14, 0, 11, 0, 0, 3, 0]\n",
            "available task:  [0, 1, 3, 6]\n",
            "currentTask 6\n",
            "currentTime 40 : residual time [12, 14, 0, 11, 0, 0, 2, 0]\n",
            "available task:  [0, 1, 3, 6]\n",
            "currentTask 6\n",
            "currentTime 41 : residual time [12, 14, 0, 11, 0, 0, 1, 0]\n",
            "available task:  [0, 1, 3, 6]\n",
            "currentTask 6\n",
            "currentTime 42 : residual time [12, 14, 0, 11, 0, 0, 0, 0]\n",
            "available task:  [0, 1, 3]\n",
            "currentTask 3\n",
            "currentTime 43 : residual time [12, 14, 0, 10, 0, 0, 0, 0]\n",
            "available task:  [0, 1, 3]\n",
            "currentTask 3\n",
            "currentTime 44 : residual time [12, 14, 0, 9, 0, 0, 0, 0]\n",
            "available task:  [0, 1, 3]\n",
            "currentTask 3\n",
            "currentTime 45 : residual time [12, 14, 0, 8, 0, 0, 0, 0]\n",
            "available task:  [0, 1, 3]\n",
            "currentTask 3\n",
            "currentTime 46 : residual time [12, 14, 0, 7, 0, 0, 0, 0]\n",
            "available task:  [0, 1, 3]\n",
            "currentTask 3\n",
            "currentTime 47 : residual time [12, 14, 0, 6, 0, 0, 0, 0]\n",
            "available task:  [0, 1, 3]\n",
            "currentTask 3\n",
            "currentTime 48 : residual time [12, 14, 0, 5, 0, 0, 0, 0]\n",
            "available task:  [0, 1, 3]\n",
            "currentTask 3\n",
            "currentTime 49 : residual time [12, 14, 0, 4, 0, 0, 0, 0]\n",
            "available task:  [0, 1, 3]\n",
            "currentTask 3\n",
            "currentTime 50 : residual time [12, 14, 0, 3, 0, 0, 0, 0]\n",
            "available task:  [0, 1, 3]\n",
            "currentTask 3\n",
            "currentTime 51 : residual time [12, 14, 0, 2, 0, 0, 0, 0]\n",
            "available task:  [0, 1, 3]\n",
            "currentTask 3\n",
            "currentTime 52 : residual time [12, 14, 0, 1, 0, 0, 0, 0]\n",
            "available task:  [0, 1, 3]\n",
            "currentTask 3\n",
            "currentTime 53 : residual time [12, 14, 0, 0, 0, 0, 0, 0]\n",
            "available task:  [0, 1]\n",
            "currentTask 0\n",
            "currentTime 54 : residual time [11, 14, 0, 0, 0, 0, 0, 0]\n",
            "available task:  [0, 1]\n",
            "currentTask 0\n",
            "currentTime 55 : residual time [10, 14, 0, 0, 0, 0, 0, 0]\n",
            "available task:  [0, 1]\n",
            "currentTask 0\n",
            "currentTime 56 : residual time [9, 14, 0, 0, 0, 0, 0, 0]\n",
            "available task:  [0, 1]\n",
            "currentTask 0\n",
            "currentTime 57 : residual time [8, 14, 0, 0, 0, 0, 0, 0]\n",
            "available task:  [0, 1]\n",
            "currentTask 0\n",
            "currentTime 58 : residual time [7, 14, 0, 0, 0, 0, 0, 0]\n",
            "available task:  [0, 1]\n",
            "currentTask 0\n",
            "currentTime 59 : residual time [6, 14, 0, 0, 0, 0, 0, 0]\n",
            "available task:  [0, 1]\n",
            "currentTask 0\n",
            "currentTime 60 : residual time [5, 14, 0, 0, 0, 0, 0, 0]\n",
            "available task:  [0, 1]\n",
            "currentTask 0\n",
            "currentTime 61 : residual time [4, 14, 0, 0, 0, 0, 0, 0]\n",
            "available task:  [0, 1]\n",
            "currentTask 0\n",
            "currentTime 62 : residual time [3, 14, 0, 0, 0, 0, 0, 0]\n",
            "available task:  [0, 1]\n",
            "currentTask 0\n",
            "currentTime 63 : residual time [2, 14, 0, 0, 0, 0, 0, 0]\n",
            "available task:  [0, 1]\n",
            "currentTask 0\n",
            "currentTime 64 : residual time [1, 14, 0, 0, 0, 0, 0, 0]\n",
            "available task:  [0, 1]\n",
            "currentTask 0\n",
            "currentTime 65 : residual time [0, 14, 0, 0, 0, 0, 0, 0]\n",
            "available task:  [1]\n",
            "currentTask 1\n",
            "currentTime 66 : residual time [0, 13, 0, 0, 0, 0, 0, 0]\n",
            "available task:  [1]\n",
            "currentTask 1\n",
            "currentTime 67 : residual time [0, 12, 0, 0, 0, 0, 0, 0]\n",
            "available task:  [1]\n",
            "currentTask 1\n",
            "currentTime 68 : residual time [0, 11, 0, 0, 0, 0, 0, 0]\n",
            "available task:  [1]\n",
            "currentTask 1\n",
            "currentTime 69 : residual time [0, 10, 0, 0, 0, 0, 0, 0]\n",
            "available task:  [1]\n",
            "currentTask 1\n",
            "currentTime 70 : residual time [0, 9, 0, 0, 0, 0, 0, 0]\n",
            "available task:  [1]\n",
            "currentTask 1\n",
            "currentTime 71 : residual time [0, 8, 0, 0, 0, 0, 0, 0]\n",
            "available task:  [1]\n",
            "currentTask 1\n",
            "currentTime 72 : residual time [0, 7, 0, 0, 0, 0, 0, 0]\n",
            "available task:  [1]\n",
            "currentTask 1\n",
            "currentTime 73 : residual time [0, 6, 0, 0, 0, 0, 0, 0]\n",
            "available task:  [1]\n",
            "currentTask 1\n",
            "currentTime 74 : residual time [0, 5, 0, 0, 0, 0, 0, 0]\n",
            "available task:  [1]\n",
            "currentTask 1\n",
            "currentTime 75 : residual time [0, 4, 0, 0, 0, 0, 0, 0]\n",
            "available task:  [1]\n",
            "currentTask 1\n",
            "currentTime 76 : residual time [0, 3, 0, 0, 0, 0, 0, 0]\n",
            "available task:  [1]\n",
            "currentTask 1\n",
            "currentTime 77 : residual time [0, 2, 0, 0, 0, 0, 0, 0]\n",
            "available task:  [1]\n",
            "currentTask 1\n",
            "currentTime 78 : residual time [0, 1, 0, 0, 0, 0, 0, 0]\n",
            "available task:  [1]\n",
            "currentTask 1\n"
          ]
        }
      ]
    },
    {
      "cell_type": "code",
      "source": [
        "print('finish time:', x)"
      ],
      "metadata": {
        "colab": {
          "base_uri": "https://localhost:8080/"
        },
        "id": "Z4yBolANMoF6",
        "outputId": "81acb05d-20da-450e-cb8b-8e8d152c7556"
      },
      "execution_count": null,
      "outputs": [
        {
          "output_type": "stream",
          "name": "stdout",
          "text": [
            "finish time: {'PID_3': 64, 'PID_4': 78, 'PID_5': 14, 'PID_6': 52, 'PID_7': 31, 'PID_8': 22, 'PID_1': 41, 'PID_2': 8}\n"
          ]
        }
      ]
    },
    {
      "cell_type": "code",
      "source": [
        "# edit this cell for print wait time\n",
        "print('Wait time', y)\n"
      ],
      "metadata": {
        "id": "AqVR1BMPNtVR"
      },
      "execution_count": null,
      "outputs": []
    },
    {
      "cell_type": "markdown",
      "source": [
        "#RR   \n",
        "# Round Robin"
      ],
      "metadata": {
        "id": "Sae-bJouh9im"
      }
    },
    {
      "cell_type": "code",
      "source": [
        "def RR(n, array,t):\n",
        "\n",
        "    tmp_counter = 0     #به دلیل جلوگیری از اجرا شدن بیش از حد حلقه\n",
        "\n",
        "    tmplist = copy.deepcopy(array)\n",
        "    finishedlist = [] #لیست پراسس های تمام شده\n",
        "    finished_i = [] #لیست ایندکس های تمام شده\n",
        "    waitTime = [0 for _ in range(n)]\n",
        "    turnTime = [0 for _ in range(n)]\n",
        "\n",
        "    currentTime = min(tmplist[1])\n",
        "    i = 0\n",
        "    firstTime = True   #مشخص کردن به دلیل مقدار دهی waiting time\n",
        "    while len(finishedlist) <= n:   #در صورتی که تمام پراسس ها تمام شوند از حلقه خارج می شود\n",
        "      if i in finished_i:\n",
        "        i += 1            #در صورتی که ایندکس تمام شده باشد به ایندکس اضافه شده و دوباره اجرا میشود\n",
        "        tmp_counter += 1\n",
        "        if tmp_counter == n:\n",
        "          break\n",
        "        continue\n",
        "\n",
        "      if i >= n:    #ریست کردن شمارنده و خاموش کردن پرچم اولین بار\n",
        "        i = 0\n",
        "        firstTime = False\n",
        "\n",
        "      mini = i\n",
        "      minv = tmplist[2][i]\n",
        "\n",
        "      if firstTime:       #مقدار دهی به waitng time\n",
        "        arriveTime = tmplist[1][i]\n",
        "        waitTime[mini] = currentTime - arriveTime\n",
        "\n",
        "      tmplist[2][i] = tmplist[2][i] - t     #کم کردن دوره تناوب از هر پراسس\n",
        "      if tmplist[2][i] <= 0:        #در صورت تمام شدن پراسس در صورت کم شدن\n",
        "        tmplist[2][i] = 0\n",
        "        finishedlist.append(tmplist[0][i])      #اضافه کردن به لیست تمام شده ها\n",
        "        finished_i.append(i)\n",
        "\n",
        "        currentTime = currentTime + (t - minv)  #جلو بردن clock\n",
        "        turnTime[mini] = currentTime\n",
        "      else:\n",
        "        currentTime = currentTime + t\n",
        "\n",
        "      i += 1\n",
        "    return {('PID_' + str(array[0][i])): waitTime[i] for i in range(n)}, {('PID_' + str(array[0][i])): turnTime[i] for i in range(n)}"
      ],
      "metadata": {
        "id": "BgIYa5A4pGNP"
      },
      "execution_count": null,
      "outputs": []
    },
    {
      "cell_type": "code",
      "source": [
        "x , y =RR(n, arr,5)\n",
        "\n",
        "print(x , '\\n' , y)"
      ],
      "metadata": {
        "colab": {
          "base_uri": "https://localhost:8080/"
        },
        "id": "n24M4v4HsST3",
        "outputId": "3113e926-1fa4-4749-c695-24bc3842c6ce"
      },
      "execution_count": null,
      "outputs": [
        {
          "output_type": "stream",
          "name": "stdout",
          "text": [
            "{'PID_3': 0, 'PID_4': 5, 'PID_5': 10, 'PID_6': 15, 'PID_7': 17, 'PID_8': 22, 'PID_1': 26, 'PID_2': 31} \n",
            " {'PID_3': 69, 'PID_4': 57, 'PID_5': 45, 'PID_6': 61, 'PID_7': 51, 'PID_8': 53, 'PID_1': 53, 'PID_2': 35}\n"
          ]
        }
      ]
    },
    {
      "cell_type": "code",
      "source": [
        "arr\n"
      ],
      "metadata": {
        "colab": {
          "base_uri": "https://localhost:8080/"
        },
        "id": "lJkbcbKb5DHz",
        "outputId": "ca14df07-1321-4abe-af3e-20537ebff56f"
      },
      "execution_count": null,
      "outputs": [
        {
          "output_type": "execute_result",
          "data": {
            "text/plain": [
              "[[3, 4, 5, 6, 7, 8, 1, 2],\n",
              " [0, 0, 0, 0, 3, 3, 4, 4],\n",
              " [12, 14, 10, 11, 9, 8, 10, 5]]"
            ]
          },
          "metadata": {},
          "execution_count": 83
        }
      ]
    }
  ]
}